{
  "nbformat": 4,
  "nbformat_minor": 0,
  "metadata": {
    "colab": {
      "name": "OOP_Lab_Assignment-2.ipynb",
      "provenance": [],
      "collapsed_sections": []
    },
    "kernelspec": {
      "name": "python3",
      "display_name": "Python 3"
    },
    "language_info": {
      "name": "python"
    }
  },
  "cells": [
    {
      "cell_type": "markdown",
      "metadata": {
        "id": "q-oQeg0tsyyM"
      },
      "source": [
        "Name: Hemang Ranga\n",
        "---\n",
        "Roll no : 20BCS057\n",
        "---\n",
        "OOP_Assignment-2\n",
        "---"
      ]
    },
    {
      "cell_type": "markdown",
      "metadata": {
        "id": "8VOqRUBvwqcE"
      },
      "source": [
        "Problem-1"
      ]
    },
    {
      "cell_type": "code",
      "metadata": {
        "colab": {
          "base_uri": "https://localhost:8080/"
        },
        "id": "JQD3yqdZws0M",
        "outputId": "ebe40a99-98a8-4313-fc1b-c1b785ccc4be"
      },
      "source": [
        "import numpy as np\n",
        "class Circle():\n",
        "  def __init__(self, r):\n",
        "    self.radius = r\n",
        "\n",
        "  def perimeter(self):\n",
        "    return 2*(np.pi)*(self.radius)\n",
        "\n",
        "  def area(self):\n",
        "    return (np.pi)*((self.radius)**2)\n",
        "\n",
        "Acircle = Circle(5)\n",
        "print(Acircle.perimeter())\n",
        "print(Acircle.area())"
      ],
      "execution_count": 3,
      "outputs": [
        {
          "output_type": "stream",
          "name": "stdout",
          "text": [
            "31.41592653589793\n",
            "78.53981633974483\n"
          ]
        }
      ]
    },
    {
      "cell_type": "markdown",
      "metadata": {
        "id": "OPPFJVn-wwGD"
      },
      "source": [
        "Problem 2"
      ]
    },
    {
      "cell_type": "code",
      "metadata": {
        "colab": {
          "base_uri": "https://localhost:8080/"
        },
        "id": "F__DmS2pwxpw",
        "outputId": "a275c7e1-dd4e-4ac1-86d8-aaa1fda58d15"
      },
      "source": [
        "class Faculty:\n",
        "\n",
        "    def setData(self):\n",
        "        self.Name = input(\"Enter the name of the Employee : \") \n",
        "        self.Emp_ID = (input(\"Enter the employee ID : \"))\n",
        "        self.Branch = input(\"Enter the branch : \")\n",
        "        self.Salary = int(input(\"Enter the salary : \"))\n",
        "\n",
        "    def getData(self):\n",
        "      print(f\"Name: \", {self.Name})\n",
        "      print(f\"Employee ID: \", {self.Emp_ID})\n",
        "      print(f\"Branch: \", {self.Branch})\n",
        "      print(f\"Salary: \", {self.Salary})\n",
        "\n",
        "      #return self.Name, self.Emp_ID, self.Branch, self.Salary\n",
        "\n",
        "Fac_list = []\n",
        "for i in range(5):\n",
        "    temp = Faculty()\n",
        "    print(f\"\\nEnter the data for employee {i+1}  : \")\n",
        "    temp.setData()\n",
        "    Fac_list.append(temp)\n",
        "\n",
        "for i in range(5):\n",
        "    print(f\"\\nData of employee {i+1}  : \")\n",
        "    Fac_list[i].getData()"
      ],
      "execution_count": 16,
      "outputs": [
        {
          "output_type": "stream",
          "name": "stdout",
          "text": [
            "\n",
            "Enter the data for employee 1  : \n",
            "Enter the name of the Employee : Kailash\n",
            "Enter the employee ID : k15\n",
            "Enter the branch : ECE\n",
            "Enter the salary : 50000\n",
            "\n",
            "Enter the data for employee 2  : \n",
            "Enter the name of the Employee : Divya\n",
            "Enter the employee ID : k8\n",
            "Enter the branch : CSE\n",
            "Enter the salary : 55000\n",
            "\n",
            "Enter the data for employee 3  : \n",
            "Enter the name of the Employee : Abhishek\n",
            "Enter the employee ID : k2\n",
            "Enter the branch : DSAI\n",
            "Enter the salary : 50000\n",
            "\n",
            "Enter the data for employee 4  : \n",
            "Enter the name of the Employee : Tarun\n",
            "Enter the employee ID : k24\n",
            "Enter the branch : ECE\n",
            "Enter the salary : 60000\n",
            "\n",
            "Enter the data for employee 5  : \n",
            "Enter the name of the Employee : Komal\n",
            "Enter the employee ID : k17\n",
            "Enter the branch : CSE\n",
            "Enter the salary : 45000\n",
            "\n",
            "Data of employee 1  : \n",
            "Name:  {'Kailash'}\n",
            "Employee ID:  {'k15'}\n",
            "Branch:  {'ECE'}\n",
            "Salary:  {50000}\n",
            "\n",
            "Data of employee 2  : \n",
            "Name:  {'Divya'}\n",
            "Employee ID:  {'k8'}\n",
            "Branch:  {'CSE'}\n",
            "Salary:  {55000}\n",
            "\n",
            "Data of employee 3  : \n",
            "Name:  {'Abhishek'}\n",
            "Employee ID:  {'k2'}\n",
            "Branch:  {'DSAI'}\n",
            "Salary:  {50000}\n",
            "\n",
            "Data of employee 4  : \n",
            "Name:  {'Tarun'}\n",
            "Employee ID:  {'k24'}\n",
            "Branch:  {'ECE'}\n",
            "Salary:  {60000}\n",
            "\n",
            "Data of employee 5  : \n",
            "Name:  {'Komal'}\n",
            "Employee ID:  {'k17'}\n",
            "Branch:  {'CSE'}\n",
            "Salary:  {45000}\n"
          ]
        }
      ]
    },
    {
      "cell_type": "markdown",
      "metadata": {
        "id": "ZQ5OKVwz_xwf"
      },
      "source": [
        "Problem-3"
      ]
    },
    {
      "cell_type": "code",
      "metadata": {
        "colab": {
          "base_uri": "https://localhost:8080/"
        },
        "id": "yaH0beKt_zjE",
        "outputId": "b65af3bc-2f2b-484d-ef7d-b2fc5bdc88b7"
      },
      "source": [
        "class Account:\n",
        "    def __init__(self, accNo, accHolder, amount):\n",
        "        self.AccountNumber = accNo\n",
        "        self.AccountHolder = accHolder\n",
        "        self.AccountAmount = amount\n",
        "\n",
        "    def deposit(self):\n",
        "        depAmount = int(input(\"Enter the amount to deposit : \"))\n",
        "        self.AccountAmount += depAmount\n",
        "        print(f\"Amount deposited : {depAmount}\")\n",
        "        print(f\"New Balance : {self.AccountAmount}\")\n",
        "\n",
        "    def withdraw(self):\n",
        "        withAmount = int(input(\"Enter the amount to withdraw : \"))\n",
        "        if withAmount > self.AccountAmount:\n",
        "            print(\"Your Account don't have sufficient ammount !!\")\n",
        "            return -1\n",
        "        self.AccountAmount -= withAmount\n",
        "        print(f\"Amount withdraw : {withAmount}\")\n",
        "        print(f\"New Balance : {self.AccountAmount}\")\n",
        "        return withAmount\n",
        "\n",
        "    def checkBalance(self):\n",
        "        print(f\"Balance : {self.AccountAmount}\")\n",
        "        return self.AccountAmount\n",
        "\n",
        "    def getDetails(self):\n",
        "        print(f\"Account Number : {self.AccountNumber}\")\n",
        "        print(f\"Account Holder : {self.AccountHolder}\") \n",
        "        print(f\"Balance : {self.AccountAmount}\")\n",
        "        return self.AccountNumber, self.AccountHolder, self.AccountAmount\n",
        "\n",
        "N = Account(225, \"Rajesh\", 4300)\n",
        "N.deposit()\n",
        "withdraw = N.withdraw()\n",
        "balance = N.checkBalance()\n",
        "details = N.getDetails()"
      ],
      "execution_count": 21,
      "outputs": [
        {
          "output_type": "stream",
          "name": "stdout",
          "text": [
            "Enter the amount to deposit : 50000\n",
            "Amount deposited : 50000\n",
            "New Balance : 54300\n",
            "Enter the amount to withdraw : 3800\n",
            "Amount withdraw : 3800\n",
            "New Balance : 50500\n",
            "Balance : 50500\n",
            "Account Number : 225\n",
            "Account Holder : Rajesh\n",
            "Balance : 50500\n"
          ]
        }
      ]
    },
    {
      "cell_type": "markdown",
      "metadata": {
        "id": "wMaF9NoxBfTC"
      },
      "source": [
        "Problem-4"
      ]
    },
    {
      "cell_type": "code",
      "metadata": {
        "colab": {
          "base_uri": "https://localhost:8080/"
        },
        "id": "telzgH0vBg5l",
        "outputId": "98d2cc41-2fa3-4e4c-ea98-05b5c41a4f0f"
      },
      "source": [
        "class student():\n",
        "  def __init__(self,S_Name,S_USN,S_Marks):\n",
        "    self.Student_Name = S_Name\n",
        "    self.Student_USN = S_USN\n",
        "    self.Student_Marks = S_Marks\n",
        "  def Students_Name(self):\n",
        "    print(\"Student Name: \", self.Student_Name)\n",
        "  def Students_USN(self):\n",
        "    print(\"Student USN: \", self.Student_USN)\n",
        "  def Students_Marks(self):\n",
        "    print(\"Student Marks: \",self.Student_Marks)\n",
        "marks = []\n",
        "marks.append(87)   \n",
        "marks.append(85)\n",
        "marks.append(98)\n",
        "\n",
        "s1 = student(\"Hemang\", 35, marks)\n",
        "s1.Students_Name()\n",
        "s1.Students_USN()\n",
        "s1.Students_Marks()"
      ],
      "execution_count": 1,
      "outputs": [
        {
          "output_type": "stream",
          "name": "stdout",
          "text": [
            "Student Name:  Hemang\n",
            "Student USN:  35\n",
            "Student Marks:  [87, 85, 98]\n"
          ]
        }
      ]
    },
    {
      "cell_type": "markdown",
      "metadata": {
        "id": "arhoEDoaLhHA"
      },
      "source": [
        "Problem-5"
      ]
    },
    {
      "cell_type": "code",
      "metadata": {
        "colab": {
          "base_uri": "https://localhost:8080/"
        },
        "id": "g91FC_4CLjqF",
        "outputId": "6172e160-5d1b-4a1c-eeff-171f418cb5e9"
      },
      "source": [
        "class Patient:\n",
        "  def __init__(self, name, admission_date, symptoms : list, oxygen_level, discharge_date):\n",
        "    self.name = name\n",
        "    self.admission_date = admission_date\n",
        "    self.symptoms = symptoms\n",
        "    self.oxygen_level = oxygen_level\n",
        "    self.discharge_date = discharge_date\n",
        "\n",
        "class Data:\n",
        "  def __init__(self):\n",
        "    self.oxygen_support = []\n",
        "    self.general_ward = []\n",
        "\n",
        "  def Patient(self, patient):\n",
        "    if (patient.oxygen_level < 90):\n",
        "      self.oxygen_support.append(patient)\n",
        "    else:\n",
        "      self.general_ward.append(patient)\n",
        "\n",
        "  def numberOxygen(self):\n",
        "    print(f\"Total number of patients needing oxygen support is {len(self.oxygen_support)}\")\n",
        "\n",
        "  def numberGeneral(self):\n",
        "    print(f\"Total number of patients in general ward is {len(self.general_ward)}\")\n",
        "\n",
        "  def totalPatients(self):\n",
        "    print(f\"Total number of patients is {len(self.general_ward)+len(self.oxygen_support)}\")\n",
        "\n",
        "  def patientInfo(self):\n",
        "    print(\"Patients in oxygen support\")\n",
        "    for patient in self.oxygen_support:\n",
        "      print(\"\\n\")\n",
        "      print(\"Name:\", patient.name)\n",
        "      print(\"Admission Date:\", patient.admission_date)\n",
        "      print(\"symptoms:\", patient.symptoms)\n",
        "      print(\"oxygen level:\", patient.oxygen_level)\n",
        "      print(\"Discharge Date:\", patient.discharge_date)\n",
        "      print(\"\\n\")\n",
        "\n",
        "    print(\"Patients in General ward\")\n",
        "    for patient in self.general_ward:\n",
        "      print(\"Name:\", patient.name)\n",
        "      print(\"Admission Date:\", patient.admission_date)\n",
        "      print(\"symptoms:\", patient.symptoms)\n",
        "      print(\"oxygen level:\", patient.oxygen_level)\n",
        "      print(\"Discharge Date:\", patient.discharge_date)\n",
        "      print(\"\\n\")\n",
        "\n",
        "patient1 = Patient(\"Suresh\", \"13/09/2021\", [\"Fever\", \"Coughing\"], 79, \"29/09/2021\")\n",
        "patient2 = Patient(\"Abdul\", \"15/09/2021\", [\"Headaches\", \"Fever\"], 95, \"1/10/2021\")\n",
        "\n",
        "db = Data()\n",
        "db.Patient(patient1)\n",
        "db.Patient(patient2)\n",
        "db.patientInfo()\n",
        "db.numberOxygen()\n",
        "db.numberGeneral()\n",
        "db.totalPatients()"
      ],
      "execution_count": 2,
      "outputs": [
        {
          "output_type": "stream",
          "name": "stdout",
          "text": [
            "Patients in oxygen support\n",
            "\n",
            "\n",
            "Name: Suresh\n",
            "Admission Date: 13/09/2021\n",
            "symptoms: ['Fever', 'Coughing']\n",
            "oxygen level: 79\n",
            "Discharge Date: 29/09/2021\n",
            "\n",
            "\n",
            "Patients in General ward\n",
            "Name: Abdul\n",
            "Admission Date: 15/09/2021\n",
            "symptoms: ['Headaches', 'Fever']\n",
            "oxygen level: 95\n",
            "Discharge Date: 1/10/2021\n",
            "\n",
            "\n",
            "Total number of patients needing oxygen support is 1\n",
            "Total number of patients in general ward is 1\n",
            "Total number of patients is 2\n"
          ]
        }
      ]
    },
    {
      "cell_type": "markdown",
      "metadata": {
        "id": "K9Lg1vD5R7L2"
      },
      "source": [
        "Problem-6"
      ]
    },
    {
      "cell_type": "code",
      "metadata": {
        "colab": {
          "base_uri": "https://localhost:8080/"
        },
        "id": "iokb3Yb0R9BX",
        "outputId": "2c3bb508-ba83-4a49-b55a-5609787569b9"
      },
      "source": [
        "class time():\n",
        "  def __init__(self,hr=0,min=0,sec=0):\n",
        "    self.hour = hr\n",
        "    self.minute = min\n",
        "    self.second = sec\n",
        "  def dis(self):\n",
        "    print(\"Time :\",self.hour,\":\",self.minute,\":\",self.second)\n",
        "t1 = time()\n",
        "t1.dis()\n",
        "t1.hour = 5\n",
        "t1.minute = 43\n",
        "t1.second = 25\n",
        "t1.dis()"
      ],
      "execution_count": 4,
      "outputs": [
        {
          "output_type": "stream",
          "name": "stdout",
          "text": [
            "Time : 0 : 0 : 0\n",
            "Time : 5 : 43 : 25\n"
          ]
        }
      ]
    },
    {
      "cell_type": "markdown",
      "metadata": {
        "id": "grhKha73ZlKg"
      },
      "source": [
        "Problem-7"
      ]
    },
    {
      "cell_type": "code",
      "metadata": {
        "colab": {
          "base_uri": "https://localhost:8080/"
        },
        "id": "ttv0fjiLZnJ2",
        "outputId": "01f1b659-e6f1-4207-8f64-1a68145fe5ab"
      },
      "source": [
        "class Student:\n",
        "    def __init__(self, n, a, r):\n",
        "        self.name = n\n",
        "        self.age = a\n",
        "        self.rollNo = r\n",
        "\n",
        "    @classmethod\n",
        "    def compare(cls, s1, s2):\n",
        "        if s1.age == s2.age:\n",
        "            print(\"Age of the students are equal.\")\n",
        "        else:\n",
        "            print(\"Age of the students are not equal.\")\n",
        "\n",
        "std1 = Student(\"Rahul\", 21, 33)\n",
        "std2 = Student(\"Rohit\", 22, 74)\n",
        "\n",
        "Student.compare(std1, std2)"
      ],
      "execution_count": 6,
      "outputs": [
        {
          "output_type": "stream",
          "name": "stdout",
          "text": [
            "Age of the students are not equal.\n"
          ]
        }
      ]
    },
    {
      "cell_type": "markdown",
      "metadata": {
        "id": "pNEAGTLAao8M"
      },
      "source": [
        "Problem-8"
      ]
    },
    {
      "cell_type": "code",
      "metadata": {
        "colab": {
          "base_uri": "https://localhost:8080/"
        },
        "id": "Uyg7gkb-aqgX",
        "outputId": "f6f2eac0-f427-47ea-9d15-c8647863ddee"
      },
      "source": [
        "class Student:\n",
        "    sem = 5\n",
        "    institute = \"MNIT Jaipur\"\n",
        "    \n",
        "    def setData(self):\n",
        "        self.name = input(\"Enter the name of the student : \")\n",
        "        self.id = int(input(\"Enter the USN of student : \"))\n",
        "\n",
        "    def getInstanceData(self):\n",
        "        print(\"Name : \", self.name)\n",
        "        print(\"USN = \", self.id)\n",
        "\n",
        "    @classmethod\n",
        "    def getClassData(cls):\n",
        "        print(\"Semester : \", cls.sem)\n",
        "        print(\"Institute : \", cls.institute)\n",
        "\n",
        "    @staticmethod\n",
        "    def getExplanation():\n",
        "        print(\"Class variables (sem, institute) are printed using ClassMethod and Instance variables (name, id) are printed using Instance Method\")\n",
        "\n",
        "\n",
        "s1 = Student()\n",
        "s1.setData()\n",
        "s1.getInstanceData()\n",
        "Student.getClassData()\n",
        "Student.getExplanation()\n"
      ],
      "execution_count": 8,
      "outputs": [
        {
          "output_type": "stream",
          "name": "stdout",
          "text": [
            "Enter the name of the student : Kunal\n",
            "Enter the USN of student : 60\n",
            "Name :  Kunal\n",
            "USN =  60\n",
            "Semester :  5\n",
            "Institute :  MNIT Jaipur\n",
            "Class variables (sem, institute) are printed using ClassMethod and Instance variables (name, id) are printed using Instance Method\n"
          ]
        }
      ]
    },
    {
      "cell_type": "markdown",
      "metadata": {
        "id": "silK6XRRceAG"
      },
      "source": [
        "Problem-9"
      ]
    },
    {
      "cell_type": "code",
      "metadata": {
        "colab": {
          "base_uri": "https://localhost:8080/"
        },
        "id": "1j_rFv3Ycfio",
        "outputId": "33f27616-39ad-4c49-b08f-52bbea2cde96"
      },
      "source": [
        "class Student_Uni:\n",
        "\n",
        "  def __init__(self, Name, roll_number, semester, laptop_name, laptop_cpu, laptop_ram, laptop_hard_disk):\n",
        "    self.name = Name\n",
        "    self.roll_num = roll_number\n",
        "    self.sem = semester\n",
        "    self.laptop = self.Laptop(laptop_name, laptop_cpu, laptop_ram, laptop_hard_disk)\n",
        "\n",
        "\n",
        "  class Laptop:\n",
        "    def __init__(self, name, cpu, ram : int, hard_disk):\n",
        "      self.name = name\n",
        "      self.cpu = cpu\n",
        "      self.ram = ram\n",
        "      self.hard_disk = hard_disk\n",
        "\n",
        "    def specifications(self):\n",
        "      print(\"Laptop Name:\", self.name)\n",
        "      print(\"Laptop CPU:\", self.cpu)\n",
        "      print(\"Laptop RAM:\", self.ram, \"GB\")\n",
        "      print(\"Laptop Hard disk:\", self.hard_disk)\n",
        "\n",
        "  def disp(self):\n",
        "    print(\"Name:\", self.name)\n",
        "    print(\"Roll Number:\", self.roll_num)\n",
        "    print(\"Sem:\", self.sem)\n",
        "    self.laptop.specifications()\n",
        "\n",
        "x = Student_Uni(\"Hemang\", 57 , 3, \"DELL Inspiron 3593\", \"Intel(R) Core(TM) i5-1035G1 CPU @ 1.00GHz\", 8, \"256 GB SSD/1 TB HDD\")\n",
        "x.disp()"
      ],
      "execution_count": 9,
      "outputs": [
        {
          "output_type": "stream",
          "name": "stdout",
          "text": [
            "Name: Hemang\n",
            "Roll Number: 57\n",
            "Sem: 3\n",
            "Laptop Name: DELL Inspiron 3593\n",
            "Laptop CPU: Intel(R) Core(TM) i5-1035G1 CPU @ 1.00GHz\n",
            "Laptop RAM: 8 GB\n",
            "Laptop Hard disk: 256 GB SSD/1 TB HDD\n"
          ]
        }
      ]
    }
  ]
}